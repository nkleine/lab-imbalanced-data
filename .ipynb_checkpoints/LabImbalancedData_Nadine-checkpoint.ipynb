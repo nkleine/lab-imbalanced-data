{
 "cells": [
  {
   "cell_type": "code",
   "execution_count": 182,
   "id": "2d01838c",
   "metadata": {},
   "outputs": [],
   "source": [
    "import pandas as pd\n",
    "import numpy as np\n",
    "import matplotlib.pyplot as plt\n",
    "import seaborn as sns"
   ]
  },
  {
   "cell_type": "code",
   "execution_count": 183,
   "id": "3c353aa5",
   "metadata": {},
   "outputs": [],
   "source": [
    "from sklearn.linear_model import LogisticRegression\n",
    "from sklearn.preprocessing import StandardScaler"
   ]
  },
  {
   "cell_type": "code",
   "execution_count": 184,
   "id": "b096c523",
   "metadata": {},
   "outputs": [],
   "source": [
    "# Task 1: Load the dataset and explore the variables."
   ]
  },
  {
   "cell_type": "code",
   "execution_count": 185,
   "id": "472ba95b",
   "metadata": {},
   "outputs": [
    {
     "data": {
      "text/plain": [
       "(7043, 21)"
      ]
     },
     "execution_count": 185,
     "metadata": {},
     "output_type": "execute_result"
    }
   ],
   "source": [
    "data=pd.read_csv('customer_churn.csv')\n",
    "data.head()\n",
    "data.shape"
   ]
  },
  {
   "cell_type": "code",
   "execution_count": 186,
   "id": "2b134f20",
   "metadata": {},
   "outputs": [
    {
     "data": {
      "text/plain": [
       "customerID          False\n",
       "gender              False\n",
       "SeniorCitizen       False\n",
       "Partner             False\n",
       "Dependents          False\n",
       "tenure              False\n",
       "PhoneService        False\n",
       "MultipleLines       False\n",
       "InternetService     False\n",
       "OnlineSecurity      False\n",
       "OnlineBackup        False\n",
       "DeviceProtection    False\n",
       "TechSupport         False\n",
       "StreamingTV         False\n",
       "StreamingMovies     False\n",
       "Contract            False\n",
       "PaperlessBilling    False\n",
       "PaymentMethod       False\n",
       "MonthlyCharges      False\n",
       "TotalCharges        False\n",
       "Churn               False\n",
       "dtype: bool"
      ]
     },
     "execution_count": 186,
     "metadata": {},
     "output_type": "execute_result"
    }
   ],
   "source": [
    "#Check for NaNs - no duplicates\n",
    "pd.isnull(data).sum() > 0"
   ]
  },
  {
   "cell_type": "code",
   "execution_count": 187,
   "id": "02b8c550",
   "metadata": {},
   "outputs": [
    {
     "data": {
      "text/plain": [
       "(7043, 21)"
      ]
     },
     "execution_count": 187,
     "metadata": {},
     "output_type": "execute_result"
    }
   ],
   "source": [
    "# Drop duplicates - no duplicates\n",
    "data = data.drop_duplicates()\n",
    "data.shape"
   ]
  },
  {
   "cell_type": "code",
   "execution_count": null,
   "id": "802f5d1d",
   "metadata": {},
   "outputs": [],
   "source": []
  },
  {
   "cell_type": "code",
   "execution_count": 188,
   "id": "4a7a8106",
   "metadata": {},
   "outputs": [],
   "source": [
    "# Task 2: We will try to predict variable Churn using a logistic regression on variables tenure, \n",
    "          # SeniorCitizen,MonthlyCharges.\n",
    "# Task 3: Extract the target variable.\n",
    "# Task 4: Extract the independent variables and scale them."
   ]
  },
  {
   "cell_type": "code",
   "execution_count": 189,
   "id": "9f302ffd",
   "metadata": {},
   "outputs": [],
   "source": [
    "# X/y split\n",
    "X = data[['tenure', 'SeniorCitizen', 'MonthlyCharges']]\n",
    "y = data['Churn']"
   ]
  },
  {
   "cell_type": "code",
   "execution_count": 190,
   "id": "bc3c49f0",
   "metadata": {},
   "outputs": [
    {
     "data": {
      "text/html": [
       "<div>\n",
       "<style scoped>\n",
       "    .dataframe tbody tr th:only-of-type {\n",
       "        vertical-align: middle;\n",
       "    }\n",
       "\n",
       "    .dataframe tbody tr th {\n",
       "        vertical-align: top;\n",
       "    }\n",
       "\n",
       "    .dataframe thead th {\n",
       "        text-align: right;\n",
       "    }\n",
       "</style>\n",
       "<table border=\"1\" class=\"dataframe\">\n",
       "  <thead>\n",
       "    <tr style=\"text-align: right;\">\n",
       "      <th></th>\n",
       "      <th>tenure</th>\n",
       "      <th>SeniorCitizen</th>\n",
       "      <th>MonthlyCharges</th>\n",
       "    </tr>\n",
       "  </thead>\n",
       "  <tbody>\n",
       "    <tr>\n",
       "      <th>0</th>\n",
       "      <td>1</td>\n",
       "      <td>0</td>\n",
       "      <td>29.85</td>\n",
       "    </tr>\n",
       "    <tr>\n",
       "      <th>1</th>\n",
       "      <td>34</td>\n",
       "      <td>0</td>\n",
       "      <td>56.95</td>\n",
       "    </tr>\n",
       "    <tr>\n",
       "      <th>2</th>\n",
       "      <td>2</td>\n",
       "      <td>0</td>\n",
       "      <td>53.85</td>\n",
       "    </tr>\n",
       "    <tr>\n",
       "      <th>3</th>\n",
       "      <td>45</td>\n",
       "      <td>0</td>\n",
       "      <td>42.30</td>\n",
       "    </tr>\n",
       "    <tr>\n",
       "      <th>4</th>\n",
       "      <td>2</td>\n",
       "      <td>0</td>\n",
       "      <td>70.70</td>\n",
       "    </tr>\n",
       "  </tbody>\n",
       "</table>\n",
       "</div>"
      ],
      "text/plain": [
       "   tenure  SeniorCitizen  MonthlyCharges\n",
       "0       1              0           29.85\n",
       "1      34              0           56.95\n",
       "2       2              0           53.85\n",
       "3      45              0           42.30\n",
       "4       2              0           70.70"
      ]
     },
     "execution_count": 190,
     "metadata": {},
     "output_type": "execute_result"
    }
   ],
   "source": [
    "y.head()\n",
    "X.head()"
   ]
  },
  {
   "cell_type": "code",
   "execution_count": 191,
   "id": "711c7026",
   "metadata": {},
   "outputs": [
    {
     "data": {
      "image/png": "[encoded data removed]",
      "text/plain": [
       "<Figure size 432x288 with 2 Axes>"
      ]
     },
     "metadata": {
      "needs_background": "light"
     },
     "output_type": "display_data"
    }
   ],
   "source": [
    "correlations_matrix = X.corr()\n",
    "sns.heatmap(correlations_matrix, annot=True)\n",
    "plt.show()"
   ]
  },
  {
   "cell_type": "code",
   "execution_count": 192,
   "id": "118fe2d6",
   "metadata": {},
   "outputs": [],
   "source": [
    "#Train-Test-Split\n",
    "from sklearn.model_selection import train_test_split\n",
    "X_train, X_test, y_train, y_test = train_test_split(X, y, random_state=0) "
   ]
  },
  {
   "cell_type": "code",
   "execution_count": 193,
   "id": "c845e782",
   "metadata": {},
   "outputs": [
    {
     "data": {
      "text/plain": [
       "(5282, 3)"
      ]
     },
     "execution_count": 193,
     "metadata": {},
     "output_type": "execute_result"
    }
   ],
   "source": [
    "#   Scaling of X_train\n",
    "transformer = StandardScaler().fit(X_train)\n",
    "X_train_scaled = pd.DataFrame(transformer.transform(X_train),columns=X.columns)\n",
    "X_test_scaled = pd.DataFrame(transformer.transform(X_test),columns=X.columns)\n",
    "X_train_scaled.head()\n",
    "X_train_scaled.shape"
   ]
  },
  {
   "cell_type": "code",
   "execution_count": 194,
   "id": "9393f0cf",
   "metadata": {},
   "outputs": [],
   "source": [
    "# reset the y-index\n",
    "y_train = y_train.reset_index(drop=True) \n",
    "y_test = y_test.reset_index(drop=True) "
   ]
  },
  {
   "cell_type": "code",
   "execution_count": 195,
   "id": "9ad78c5f",
   "metadata": {},
   "outputs": [],
   "source": [
    "# Task 5: Build the logistic regression model."
   ]
  },
  {
   "cell_type": "code",
   "execution_count": 196,
   "id": "867e50a5",
   "metadata": {},
   "outputs": [
    {
     "data": {
      "text/plain": [
       "array([[0.83055757, 0.16944243],\n",
       "       [0.88959148, 0.11040852],\n",
       "       [0.66558189, 0.33441811],\n",
       "       ...,\n",
       "       [0.98794797, 0.01205203],\n",
       "       [0.25884511, 0.74115489],\n",
       "       [0.79626532, 0.20373468]])"
      ]
     },
     "execution_count": 196,
     "metadata": {},
     "output_type": "execute_result"
    }
   ],
   "source": [
    "LR = LogisticRegression(random_state=0, solver='lbfgs')\n",
    "LR.fit(X_train_scaled, y_train)\n",
    "LR.predict_proba(X_train_scaled)"
   ]
  },
  {
   "cell_type": "code",
   "execution_count": 197,
   "id": "307108f3",
   "metadata": {},
   "outputs": [
    {
     "data": {
      "text/plain": [
       "0.7808063600227144"
      ]
     },
     "execution_count": 197,
     "metadata": {},
     "output_type": "execute_result"
    }
   ],
   "source": [
    "LR.score(X_test_scaled, y_test)"
   ]
  },
  {
   "cell_type": "code",
   "execution_count": 198,
   "id": "e9eca85c",
   "metadata": {},
   "outputs": [],
   "source": [
    "# Task 6: Evaluate the model.\n",
    "# Task 7: Even a simple model will give us more than 70% accuracy. Why?"
   ]
  },
  {
   "cell_type": "code",
   "execution_count": 199,
   "id": "3f96c43c",
   "metadata": {},
   "outputs": [
    {
     "data": {
      "text/plain": [
       "<AxesSubplot:>"
      ]
     },
     "execution_count": 199,
     "metadata": {},
     "output_type": "execute_result"
    },
    {
     "data": {
      "image/png": "[encoded data removed]",
      "text/plain": [
       "<Figure size 432x288 with 1 Axes>"
      ]
     },
     "metadata": {
      "needs_background": "light"
     },
     "output_type": "display_data"
    }
   ],
   "source": [
    "count_classes = data['Churn'].value_counts()\n",
    "count_classes\n",
    "count_classes.plot(kind = 'bar')"
   ]
  },
  {
   "cell_type": "code",
   "execution_count": 200,
   "id": "0741fb9f",
   "metadata": {},
   "outputs": [
    {
     "data": {
      "text/plain": [
       "No     5174\n",
       "Yes    1869\n",
       "Name: Churn, dtype: int64"
      ]
     },
     "execution_count": 200,
     "metadata": {},
     "output_type": "execute_result"
    }
   ],
   "source": [
    "data['Churn'].value_counts(dropna=False)"
   ]
  },
  {
   "cell_type": "code",
   "execution_count": 201,
   "id": "3518b6d9",
   "metadata": {},
   "outputs": [
    {
     "data": {
      "text/plain": [
       "0.7336088939566705"
      ]
     },
     "execution_count": 201,
     "metadata": {},
     "output_type": "execute_result"
    }
   ],
   "source": [
    "5147/(5147+1869)"
   ]
  },
  {
   "cell_type": "code",
   "execution_count": 202,
   "id": "8cc8ed09",
   "metadata": {},
   "outputs": [
    {
     "name": "stdout",
     "output_type": "stream",
     "text": [
      "precision:  0.6115942028985507\n",
      "recall:  0.4557235421166307\n",
      "f1:  0.5222772277227723\n"
     ]
    }
   ],
   "source": [
    "from sklearn.metrics import precision_score\n",
    "from sklearn.metrics import recall_score\n",
    "from sklearn.metrics import f1_score\n",
    "\n",
    "pred = LR.predict(X_test_scaled)\n",
    "\n",
    "print(\"precision: \",precision_score(y_test,pred, pos_label= 'Yes'))\n",
    "print(\"recall: \",recall_score(y_test,pred, pos_label= 'Yes'))\n",
    "print(\"f1: \",f1_score(y_test,pred, pos_label= 'Yes'))"
   ]
  },
  {
   "cell_type": "code",
   "execution_count": 203,
   "id": "a732a116",
   "metadata": {},
   "outputs": [
    {
     "data": {
      "text/plain": [
       "array([[1164,  134],\n",
       "       [ 252,  211]], dtype=int64)"
      ]
     },
     "execution_count": 203,
     "metadata": {},
     "output_type": "execute_result"
    }
   ],
   "source": [
    "from sklearn.metrics import confusion_matrix\n",
    "confusion_matrix(y_test,pred)"
   ]
  },
  {
   "cell_type": "code",
   "execution_count": 204,
   "id": "6906b533",
   "metadata": {},
   "outputs": [],
   "source": [
    "# The model gives us a 78 % accuracy. This sounds high at first, but it just means, \n",
    "# that the model predict in 78 % of the cases correctly.\n",
    "# If we would choose to predict every time a 'No', the model would be already 73 % high - not so much worse.\n",
    "# Therefore, our model doesn't seem that good.\n",
    "# Especially when we look at the outcome for precision, recall and f1 it shows that our modell is highly affected\n",
    "# by the imbalance of our classes (73% - 27%).\n",
    "# Time to deal with the imbalance!"
   ]
  },
  {
   "cell_type": "code",
   "execution_count": null,
   "id": "c04141bf",
   "metadata": {},
   "outputs": [],
   "source": []
  },
  {
   "cell_type": "code",
   "execution_count": 205,
   "id": "adb492ad",
   "metadata": {},
   "outputs": [],
   "source": [
    "# Task 8: Synthetic Minority Oversampling TEchnique (SMOTE) is an over sampling technique based on nearest neighbors \n",
    "    # that adds new points between existing points. Apply imblearn.over_sampling.SMOTE to the dataset. \n",
    "    # Build and evaluate the logistic regression model. Is it there any improvement?"
   ]
  },
  {
   "cell_type": "code",
   "execution_count": null,
   "id": "e9356bac",
   "metadata": {},
   "outputs": [],
   "source": []
  },
  {
   "cell_type": "code",
   "execution_count": 206,
   "id": "a8c05cad",
   "metadata": {},
   "outputs": [
    {
     "data": {
      "text/html": [
       "<div>\n",
       "<style scoped>\n",
       "    .dataframe tbody tr th:only-of-type {\n",
       "        vertical-align: middle;\n",
       "    }\n",
       "\n",
       "    .dataframe tbody tr th {\n",
       "        vertical-align: top;\n",
       "    }\n",
       "\n",
       "    .dataframe thead th {\n",
       "        text-align: right;\n",
       "    }\n",
       "</style>\n",
       "<table border=\"1\" class=\"dataframe\">\n",
       "  <thead>\n",
       "    <tr style=\"text-align: right;\">\n",
       "      <th></th>\n",
       "      <th>tenure</th>\n",
       "      <th>SeniorCitizen</th>\n",
       "      <th>MonthlyCharges</th>\n",
       "      <th>Churn</th>\n",
       "    </tr>\n",
       "  </thead>\n",
       "  <tbody>\n",
       "    <tr>\n",
       "      <th>0</th>\n",
       "      <td>-0.340191</td>\n",
       "      <td>-0.435476</td>\n",
       "      <td>-0.514314</td>\n",
       "      <td>No</td>\n",
       "    </tr>\n",
       "    <tr>\n",
       "      <th>1</th>\n",
       "      <td>0.883210</td>\n",
       "      <td>2.296336</td>\n",
       "      <td>0.017840</td>\n",
       "      <td>No</td>\n",
       "    </tr>\n",
       "    <tr>\n",
       "      <th>2</th>\n",
       "      <td>-1.196572</td>\n",
       "      <td>-0.435476</td>\n",
       "      <td>-0.819594</td>\n",
       "      <td>Yes</td>\n",
       "    </tr>\n",
       "    <tr>\n",
       "      <th>3</th>\n",
       "      <td>1.168670</td>\n",
       "      <td>-0.435476</td>\n",
       "      <td>-1.483535</td>\n",
       "      <td>No</td>\n",
       "    </tr>\n",
       "    <tr>\n",
       "      <th>4</th>\n",
       "      <td>-0.829552</td>\n",
       "      <td>-0.435476</td>\n",
       "      <td>0.658427</td>\n",
       "      <td>Yes</td>\n",
       "    </tr>\n",
       "  </tbody>\n",
       "</table>\n",
       "</div>"
      ],
      "text/plain": [
       "     tenure  SeniorCitizen  MonthlyCharges Churn\n",
       "0 -0.340191      -0.435476       -0.514314    No\n",
       "1  0.883210       2.296336        0.017840    No\n",
       "2 -1.196572      -0.435476       -0.819594   Yes\n",
       "3  1.168670      -0.435476       -1.483535    No\n",
       "4 -0.829552      -0.435476        0.658427   Yes"
      ]
     },
     "execution_count": 206,
     "metadata": {},
     "output_type": "execute_result"
    }
   ],
   "source": [
    "from sklearn.utils import resample\n",
    "train = pd.concat([X_train_scaled, y_train],axis=1)\n",
    "train.head()"
   ]
  },
  {
   "cell_type": "code",
   "execution_count": 207,
   "id": "bee44ee6",
   "metadata": {},
   "outputs": [],
   "source": [
    "# OVERSAMPLING"
   ]
  },
  {
   "cell_type": "code",
   "execution_count": 208,
   "id": "f4ccae70",
   "metadata": {},
   "outputs": [],
   "source": [
    "# separate majority/minority classes\n",
    "no_churn = train[train['Churn']=='No']\n",
    "yes_churn = train[train['Churn']=='Yes']"
   ]
  },
  {
   "cell_type": "code",
   "execution_count": 209,
   "id": "f1973d02",
   "metadata": {},
   "outputs": [
    {
     "data": {
      "text/plain": [
       "(3876, 4)"
      ]
     },
     "metadata": {},
     "output_type": "display_data"
    },
    {
     "data": {
      "text/plain": [
       "(1406, 4)"
      ]
     },
     "metadata": {},
     "output_type": "display_data"
    }
   ],
   "source": [
    "display(no_churn.shape)\n",
    "display(yes_churn.shape)"
   ]
  },
  {
   "cell_type": "code",
   "execution_count": 210,
   "id": "780b5a29",
   "metadata": {},
   "outputs": [],
   "source": [
    "yes_churn_oversampled = resample(yes_churn, \n",
    "                                    replace=True, \n",
    "                                    n_samples = len(no_churn),\n",
    "                                    random_state=0)"
   ]
  },
  {
   "cell_type": "code",
   "execution_count": 211,
   "id": "42d7c895",
   "metadata": {},
   "outputs": [
    {
     "data": {
      "text/plain": [
       "(3876, 4)"
      ]
     },
     "metadata": {},
     "output_type": "display_data"
    },
    {
     "data": {
      "text/plain": [
       "(3876, 4)"
      ]
     },
     "metadata": {},
     "output_type": "display_data"
    },
    {
     "data": {
      "text/html": [
       "<div>\n",
       "<style scoped>\n",
       "    .dataframe tbody tr th:only-of-type {\n",
       "        vertical-align: middle;\n",
       "    }\n",
       "\n",
       "    .dataframe tbody tr th {\n",
       "        vertical-align: top;\n",
       "    }\n",
       "\n",
       "    .dataframe thead th {\n",
       "        text-align: right;\n",
       "    }\n",
       "</style>\n",
       "<table border=\"1\" class=\"dataframe\">\n",
       "  <thead>\n",
       "    <tr style=\"text-align: right;\">\n",
       "      <th></th>\n",
       "      <th>tenure</th>\n",
       "      <th>SeniorCitizen</th>\n",
       "      <th>MonthlyCharges</th>\n",
       "      <th>Churn</th>\n",
       "    </tr>\n",
       "  </thead>\n",
       "  <tbody>\n",
       "    <tr>\n",
       "      <th>2453</th>\n",
       "      <td>-1.278132</td>\n",
       "      <td>-0.435476</td>\n",
       "      <td>0.156300</td>\n",
       "      <td>Yes</td>\n",
       "    </tr>\n",
       "    <tr>\n",
       "      <th>1976</th>\n",
       "      <td>-1.278132</td>\n",
       "      <td>-0.435476</td>\n",
       "      <td>1.168894</td>\n",
       "      <td>Yes</td>\n",
       "    </tr>\n",
       "    <tr>\n",
       "      <th>4528</th>\n",
       "      <td>-1.196572</td>\n",
       "      <td>-0.435476</td>\n",
       "      <td>-0.319135</td>\n",
       "      <td>Yes</td>\n",
       "    </tr>\n",
       "    <tr>\n",
       "      <th>3011</th>\n",
       "      <td>-1.278132</td>\n",
       "      <td>-0.435476</td>\n",
       "      <td>0.488271</td>\n",
       "      <td>Yes</td>\n",
       "    </tr>\n",
       "    <tr>\n",
       "      <th>2758</th>\n",
       "      <td>-1.155792</td>\n",
       "      <td>-0.435476</td>\n",
       "      <td>-1.460181</td>\n",
       "      <td>Yes</td>\n",
       "    </tr>\n",
       "    <tr>\n",
       "      <th>5202</th>\n",
       "      <td>1.168670</td>\n",
       "      <td>-0.435476</td>\n",
       "      <td>-1.511895</td>\n",
       "      <td>Yes</td>\n",
       "    </tr>\n",
       "    <tr>\n",
       "      <th>3763</th>\n",
       "      <td>-0.666432</td>\n",
       "      <td>2.296336</td>\n",
       "      <td>-0.857962</td>\n",
       "      <td>Yes</td>\n",
       "    </tr>\n",
       "    <tr>\n",
       "      <th>1033</th>\n",
       "      <td>-1.074232</td>\n",
       "      <td>-0.435476</td>\n",
       "      <td>-0.294112</td>\n",
       "      <td>Yes</td>\n",
       "    </tr>\n",
       "    <tr>\n",
       "      <th>2135</th>\n",
       "      <td>-0.340191</td>\n",
       "      <td>-0.435476</td>\n",
       "      <td>1.043780</td>\n",
       "      <td>Yes</td>\n",
       "    </tr>\n",
       "    <tr>\n",
       "      <th>4006</th>\n",
       "      <td>-1.155792</td>\n",
       "      <td>-0.435476</td>\n",
       "      <td>0.301433</td>\n",
       "      <td>Yes</td>\n",
       "    </tr>\n",
       "    <tr>\n",
       "      <th>2136</th>\n",
       "      <td>-1.237352</td>\n",
       "      <td>-0.435476</td>\n",
       "      <td>0.983725</td>\n",
       "      <td>Yes</td>\n",
       "    </tr>\n",
       "    <tr>\n",
       "      <th>1138</th>\n",
       "      <td>-1.278132</td>\n",
       "      <td>-0.435476</td>\n",
       "      <td>0.164641</td>\n",
       "      <td>Yes</td>\n",
       "    </tr>\n",
       "    <tr>\n",
       "      <th>2518</th>\n",
       "      <td>-1.278132</td>\n",
       "      <td>-0.435476</td>\n",
       "      <td>-0.634424</td>\n",
       "      <td>Yes</td>\n",
       "    </tr>\n",
       "    <tr>\n",
       "      <th>1937</th>\n",
       "      <td>-1.278132</td>\n",
       "      <td>2.296336</td>\n",
       "      <td>-1.321720</td>\n",
       "      <td>Yes</td>\n",
       "    </tr>\n",
       "    <tr>\n",
       "      <th>332</th>\n",
       "      <td>-1.278132</td>\n",
       "      <td>-0.435476</td>\n",
       "      <td>0.161305</td>\n",
       "      <td>Yes</td>\n",
       "    </tr>\n",
       "    <tr>\n",
       "      <th>649</th>\n",
       "      <td>-1.237352</td>\n",
       "      <td>-0.435476</td>\n",
       "      <td>0.389848</td>\n",
       "      <td>Yes</td>\n",
       "    </tr>\n",
       "    <tr>\n",
       "      <th>3053</th>\n",
       "      <td>0.638529</td>\n",
       "      <td>2.296336</td>\n",
       "      <td>1.759435</td>\n",
       "      <td>Yes</td>\n",
       "    </tr>\n",
       "    <tr>\n",
       "      <th>1889</th>\n",
       "      <td>-0.421751</td>\n",
       "      <td>-0.435476</td>\n",
       "      <td>0.620058</td>\n",
       "      <td>Yes</td>\n",
       "    </tr>\n",
       "    <tr>\n",
       "      <th>3040</th>\n",
       "      <td>-1.237352</td>\n",
       "      <td>-0.435476</td>\n",
       "      <td>-1.345075</td>\n",
       "      <td>Yes</td>\n",
       "    </tr>\n",
       "    <tr>\n",
       "      <th>279</th>\n",
       "      <td>0.271509</td>\n",
       "      <td>-0.435476</td>\n",
       "      <td>0.720150</td>\n",
       "      <td>Yes</td>\n",
       "    </tr>\n",
       "  </tbody>\n",
       "</table>\n",
       "</div>"
      ],
      "text/plain": [
       "        tenure  SeniorCitizen  MonthlyCharges Churn\n",
       "2453 -1.278132      -0.435476        0.156300   Yes\n",
       "1976 -1.278132      -0.435476        1.168894   Yes\n",
       "4528 -1.196572      -0.435476       -0.319135   Yes\n",
       "3011 -1.278132      -0.435476        0.488271   Yes\n",
       "2758 -1.155792      -0.435476       -1.460181   Yes\n",
       "5202  1.168670      -0.435476       -1.511895   Yes\n",
       "3763 -0.666432       2.296336       -0.857962   Yes\n",
       "1033 -1.074232      -0.435476       -0.294112   Yes\n",
       "2135 -0.340191      -0.435476        1.043780   Yes\n",
       "4006 -1.155792      -0.435476        0.301433   Yes\n",
       "2136 -1.237352      -0.435476        0.983725   Yes\n",
       "1138 -1.278132      -0.435476        0.164641   Yes\n",
       "2518 -1.278132      -0.435476       -0.634424   Yes\n",
       "1937 -1.278132       2.296336       -1.321720   Yes\n",
       "332  -1.278132      -0.435476        0.161305   Yes\n",
       "649  -1.237352      -0.435476        0.389848   Yes\n",
       "3053  0.638529       2.296336        1.759435   Yes\n",
       "1889 -0.421751      -0.435476        0.620058   Yes\n",
       "3040 -1.237352      -0.435476       -1.345075   Yes\n",
       "279   0.271509      -0.435476        0.720150   Yes"
      ]
     },
     "execution_count": 211,
     "metadata": {},
     "output_type": "execute_result"
    }
   ],
   "source": [
    "display(no_churn.shape)\n",
    "display(yes_churn_oversampled.shape)\n",
    "yes_churn_oversampled.head(20)"
   ]
  },
  {
   "cell_type": "code",
   "execution_count": 212,
   "id": "1075ebc4",
   "metadata": {},
   "outputs": [
    {
     "data": {
      "text/html": [
       "<div>\n",
       "<style scoped>\n",
       "    .dataframe tbody tr th:only-of-type {\n",
       "        vertical-align: middle;\n",
       "    }\n",
       "\n",
       "    .dataframe tbody tr th {\n",
       "        vertical-align: top;\n",
       "    }\n",
       "\n",
       "    .dataframe thead th {\n",
       "        text-align: right;\n",
       "    }\n",
       "</style>\n",
       "<table border=\"1\" class=\"dataframe\">\n",
       "  <thead>\n",
       "    <tr style=\"text-align: right;\">\n",
       "      <th></th>\n",
       "      <th>tenure</th>\n",
       "      <th>SeniorCitizen</th>\n",
       "      <th>MonthlyCharges</th>\n",
       "      <th>Churn</th>\n",
       "    </tr>\n",
       "  </thead>\n",
       "  <tbody>\n",
       "    <tr>\n",
       "      <th>405</th>\n",
       "      <td>-0.584871</td>\n",
       "      <td>-0.435476</td>\n",
       "      <td>0.866951</td>\n",
       "      <td>Yes</td>\n",
       "    </tr>\n",
       "    <tr>\n",
       "      <th>3552</th>\n",
       "      <td>-0.421751</td>\n",
       "      <td>-0.435476</td>\n",
       "      <td>0.843597</td>\n",
       "      <td>Yes</td>\n",
       "    </tr>\n",
       "    <tr>\n",
       "      <th>2524</th>\n",
       "      <td>0.842430</td>\n",
       "      <td>-0.435476</td>\n",
       "      <td>1.123853</td>\n",
       "      <td>Yes</td>\n",
       "    </tr>\n",
       "    <tr>\n",
       "      <th>1628</th>\n",
       "      <td>-1.278132</td>\n",
       "      <td>-0.435476</td>\n",
       "      <td>-0.464268</td>\n",
       "      <td>Yes</td>\n",
       "    </tr>\n",
       "    <tr>\n",
       "      <th>4123</th>\n",
       "      <td>0.312289</td>\n",
       "      <td>-0.435476</td>\n",
       "      <td>1.220609</td>\n",
       "      <td>Yes</td>\n",
       "    </tr>\n",
       "  </tbody>\n",
       "</table>\n",
       "</div>"
      ],
      "text/plain": [
       "        tenure  SeniorCitizen  MonthlyCharges Churn\n",
       "405  -0.584871      -0.435476        0.866951   Yes\n",
       "3552 -0.421751      -0.435476        0.843597   Yes\n",
       "2524  0.842430      -0.435476        1.123853   Yes\n",
       "1628 -1.278132      -0.435476       -0.464268   Yes\n",
       "4123  0.312289      -0.435476        1.220609   Yes"
      ]
     },
     "execution_count": 212,
     "metadata": {},
     "output_type": "execute_result"
    }
   ],
   "source": [
    "train_oversampled = pd.concat([no_churn,yes_churn_oversampled],axis=0)\n",
    "train_oversampled.tail()"
   ]
  },
  {
   "cell_type": "code",
   "execution_count": 213,
   "id": "fefdaa41",
   "metadata": {},
   "outputs": [],
   "source": [
    "y_train_over = train_oversampled['Churn'].copy()\n",
    "X_train_over = train_oversampled.drop('Churn',axis = 1).copy()"
   ]
  },
  {
   "cell_type": "code",
   "execution_count": 214,
   "id": "1cfbcaf4",
   "metadata": {},
   "outputs": [
    {
     "name": "stdout",
     "output_type": "stream",
     "text": [
      "precision:  0.4790764790764791\n",
      "recall:  0.7170626349892009\n",
      "f1:  0.57439446366782\n"
     ]
    }
   ],
   "source": [
    "LR_over = LogisticRegression(random_state=0, solver='lbfgs')\n",
    "LR_over.fit(X_train_over, y_train_over)\n",
    "pred = LR_over.predict(X_test_scaled)\n",
    "\n",
    "print(\"precision: \",precision_score(y_test,pred, pos_label= 'Yes'))\n",
    "print(\"recall: \",recall_score(y_test,pred, pos_label= 'Yes'))\n",
    "print(\"f1: \",f1_score(y_test,pred, pos_label= 'Yes'))"
   ]
  },
  {
   "cell_type": "code",
   "execution_count": 215,
   "id": "d3986418",
   "metadata": {},
   "outputs": [
    {
     "data": {
      "text/plain": [
       "array([[937, 361],\n",
       "       [131, 332]], dtype=int64)"
      ]
     },
     "execution_count": 215,
     "metadata": {},
     "output_type": "execute_result"
    }
   ],
   "source": [
    "confusion_matrix(y_test,pred)"
   ]
  },
  {
   "cell_type": "code",
   "execution_count": 216,
   "id": "c27ecf7a",
   "metadata": {},
   "outputs": [],
   "source": [
    "# UNDERSAMPLING"
   ]
  },
  {
   "cell_type": "code",
   "execution_count": 217,
   "id": "11000587",
   "metadata": {},
   "outputs": [],
   "source": [
    "no_churn_undersampled = resample(no_churn, \n",
    "                                    replace=False, \n",
    "                                    n_samples = len(yes_churn),\n",
    "                                    random_state=0)"
   ]
  },
  {
   "cell_type": "code",
   "execution_count": 218,
   "id": "fd15b0cb",
   "metadata": {},
   "outputs": [
    {
     "data": {
      "text/plain": [
       "(1406, 4)"
      ]
     },
     "metadata": {},
     "output_type": "display_data"
    },
    {
     "data": {
      "text/plain": [
       "(1406, 4)"
      ]
     },
     "metadata": {},
     "output_type": "display_data"
    }
   ],
   "source": [
    "display(yes_churn.shape)\n",
    "display(no_churn_undersampled.shape)"
   ]
  },
  {
   "cell_type": "code",
   "execution_count": 219,
   "id": "7c724872",
   "metadata": {},
   "outputs": [
    {
     "data": {
      "text/html": [
       "<div>\n",
       "<style scoped>\n",
       "    .dataframe tbody tr th:only-of-type {\n",
       "        vertical-align: middle;\n",
       "    }\n",
       "\n",
       "    .dataframe tbody tr th {\n",
       "        vertical-align: top;\n",
       "    }\n",
       "\n",
       "    .dataframe thead th {\n",
       "        text-align: right;\n",
       "    }\n",
       "</style>\n",
       "<table border=\"1\" class=\"dataframe\">\n",
       "  <thead>\n",
       "    <tr style=\"text-align: right;\">\n",
       "      <th></th>\n",
       "      <th>tenure</th>\n",
       "      <th>SeniorCitizen</th>\n",
       "      <th>MonthlyCharges</th>\n",
       "      <th>Churn</th>\n",
       "    </tr>\n",
       "  </thead>\n",
       "  <tbody>\n",
       "    <tr>\n",
       "      <th>5020</th>\n",
       "      <td>1.494910</td>\n",
       "      <td>-0.435476</td>\n",
       "      <td>0.740168</td>\n",
       "      <td>No</td>\n",
       "    </tr>\n",
       "    <tr>\n",
       "      <th>3663</th>\n",
       "      <td>0.842430</td>\n",
       "      <td>-0.435476</td>\n",
       "      <td>1.187245</td>\n",
       "      <td>No</td>\n",
       "    </tr>\n",
       "    <tr>\n",
       "      <th>1047</th>\n",
       "      <td>-0.625652</td>\n",
       "      <td>-0.435476</td>\n",
       "      <td>-0.307458</td>\n",
       "      <td>No</td>\n",
       "    </tr>\n",
       "    <tr>\n",
       "      <th>3039</th>\n",
       "      <td>-0.340191</td>\n",
       "      <td>-0.435476</td>\n",
       "      <td>-0.325808</td>\n",
       "      <td>No</td>\n",
       "    </tr>\n",
       "    <tr>\n",
       "      <th>1623</th>\n",
       "      <td>0.108389</td>\n",
       "      <td>-0.435476</td>\n",
       "      <td>-1.381775</td>\n",
       "      <td>No</td>\n",
       "    </tr>\n",
       "  </tbody>\n",
       "</table>\n",
       "</div>"
      ],
      "text/plain": [
       "        tenure  SeniorCitizen  MonthlyCharges Churn\n",
       "5020  1.494910      -0.435476        0.740168    No\n",
       "3663  0.842430      -0.435476        1.187245    No\n",
       "1047 -0.625652      -0.435476       -0.307458    No\n",
       "3039 -0.340191      -0.435476       -0.325808    No\n",
       "1623  0.108389      -0.435476       -1.381775    No"
      ]
     },
     "execution_count": 219,
     "metadata": {},
     "output_type": "execute_result"
    }
   ],
   "source": [
    "train_undersampled = pd.concat([yes_churn,no_churn_undersampled], axis=0)\n",
    "train_undersampled.tail()"
   ]
  },
  {
   "cell_type": "code",
   "execution_count": 220,
   "id": "7a17b875",
   "metadata": {},
   "outputs": [],
   "source": [
    "y_train_under = train_undersampled['Churn'].copy()\n",
    "X_train_under = train_undersampled.drop('Churn',axis = 1).copy()"
   ]
  },
  {
   "cell_type": "code",
   "execution_count": 221,
   "id": "c274713e",
   "metadata": {},
   "outputs": [
    {
     "name": "stdout",
     "output_type": "stream",
     "text": [
      "precision:  0.47701149425287354\n",
      "recall:  0.7170626349892009\n",
      "f1:  0.5729076790336497\n"
     ]
    }
   ],
   "source": [
    "from sklearn.linear_model import LogisticRegression\n",
    "\n",
    "LR = LogisticRegression(random_state=0, solver='lbfgs')\n",
    "LR.fit(X_train_under, y_train_under)\n",
    "pred = LR.predict(X_test_scaled)\n",
    "\n",
    "print(\"precision: \",precision_score(y_test,pred, pos_label= 'Yes'))\n",
    "print(\"recall: \",recall_score(y_test,pred, pos_label= 'Yes'))\n",
    "print(\"f1: \",f1_score(y_test,pred, pos_label= 'Yes'))"
   ]
  },
  {
   "cell_type": "code",
   "execution_count": 222,
   "id": "cea7dc73",
   "metadata": {},
   "outputs": [
    {
     "data": {
      "text/plain": [
       "array([[934, 364],\n",
       "       [131, 332]], dtype=int64)"
      ]
     },
     "execution_count": 222,
     "metadata": {},
     "output_type": "execute_result"
    }
   ],
   "source": [
    "confusion_matrix(y_test,pred)"
   ]
  },
  {
   "cell_type": "code",
   "execution_count": 223,
   "id": "5a736fc5",
   "metadata": {},
   "outputs": [],
   "source": [
    "# SMOTE"
   ]
  },
  {
   "cell_type": "code",
   "execution_count": 224,
   "id": "49328574",
   "metadata": {},
   "outputs": [],
   "source": [
    "from imblearn.over_sampling import SMOTE"
   ]
  },
  {
   "cell_type": "code",
   "execution_count": 225,
   "id": "7eb182c1",
   "metadata": {},
   "outputs": [],
   "source": [
    "sm = SMOTE(random_state=100, k_neighbors=7)\n",
    "X_train_SMOTE,y_train_SMOTE = sm.fit_resample(X_train_scaled,y_train)"
   ]
  },
  {
   "cell_type": "code",
   "execution_count": 226,
   "id": "27aca5d4",
   "metadata": {},
   "outputs": [
    {
     "data": {
      "text/plain": [
       "(7752, 3)"
      ]
     },
     "execution_count": 226,
     "metadata": {},
     "output_type": "execute_result"
    }
   ],
   "source": [
    "X_train_SMOTE.shape"
   ]
  },
  {
   "cell_type": "code",
   "execution_count": 227,
   "id": "6efc94a8",
   "metadata": {},
   "outputs": [
    {
     "name": "stdout",
     "output_type": "stream",
     "text": [
      "precision:  0.4762589928057554\n",
      "recall:  0.714902807775378\n",
      "f1:  0.5716753022452504\n"
     ]
    }
   ],
   "source": [
    "LR = LogisticRegression(random_state=0, solver='lbfgs')\n",
    "LR.fit(X_train_SMOTE, y_train_SMOTE)\n",
    "pred = LR.predict(X_test_scaled)\n",
    "\n",
    "print(\"precision: \",precision_score(y_test,pred, pos_label= 'Yes'))\n",
    "print(\"recall: \",recall_score(y_test,pred, pos_label= 'Yes'))\n",
    "print(\"f1: \",f1_score(y_test,pred, pos_label= 'Yes'))"
   ]
  },
  {
   "cell_type": "code",
   "execution_count": 228,
   "id": "8f146afe",
   "metadata": {},
   "outputs": [
    {
     "data": {
      "text/plain": [
       "array([[934, 364],\n",
       "       [132, 331]], dtype=int64)"
      ]
     },
     "execution_count": 228,
     "metadata": {},
     "output_type": "execute_result"
    }
   ],
   "source": [
    "confusion_matrix(y_test,pred)"
   ]
  },
  {
   "cell_type": "code",
   "execution_count": 229,
   "id": "667d7211",
   "metadata": {},
   "outputs": [],
   "source": [
    "# SMOTE for neighbors = 3:\n",
    "    # precision:  0.4776978417266187\n",
    "    # recall:  0.7170626349892009\n",
    "    # f1:  0.5734024179620035"
   ]
  },
  {
   "cell_type": "code",
   "execution_count": 230,
   "id": "29ff8c0c",
   "metadata": {},
   "outputs": [],
   "source": [
    "# SMOTE for neighbors = 4:\n",
    "    #precision:  0.47701149425287354\n",
    "    #recall:  0.7170626349892009\n",
    "    #f1:  0.5729076790336497"
   ]
  },
  {
   "cell_type": "code",
   "execution_count": 231,
   "id": "d7d2e8f9",
   "metadata": {
    "scrolled": true
   },
   "outputs": [],
   "source": [
    "# SMOTE for neighbors = 5:\n",
    "    # precision:  0.4776978417266187\n",
    "    # recall:  0.7170626349892009\n",
    "    # f1:  0.5734024179620035"
   ]
  },
  {
   "cell_type": "code",
   "execution_count": 232,
   "id": "36e86157",
   "metadata": {},
   "outputs": [],
   "source": [
    "# SMOTE for neighbors = 7:\n",
    "    # precision:  0.4762589928057554\n",
    "    # recall:  0.714902807775378\n",
    "    # f1:  0.5716753022452504"
   ]
  },
  {
   "cell_type": "code",
   "execution_count": 233,
   "id": "99870cd5",
   "metadata": {},
   "outputs": [],
   "source": [
    "# SMOTE for neighbors = 10\n",
    "    # precision:  0.4746008708272859\n",
    "    # recall:  0.7062634989200864\n",
    "    # f1:  0.5677083333333334"
   ]
  },
  {
   "cell_type": "code",
   "execution_count": 234,
   "id": "9efcf6a4",
   "metadata": {},
   "outputs": [],
   "source": [
    "# the best SMOTE results: The best results come with neighbors = 3 or 5 (same numbers)"
   ]
  },
  {
   "cell_type": "code",
   "execution_count": 235,
   "id": "f0c96be8",
   "metadata": {},
   "outputs": [],
   "source": [
    "# BEST WAY TO DEAL WITH IMBALANCE HERE:"
   ]
  },
  {
   "cell_type": "code",
   "execution_count": 236,
   "id": "3eca098c",
   "metadata": {},
   "outputs": [],
   "source": [
    "# Original model:\n",
    "    # precision:  0.6115942028985507\n",
    "    # recall:  0.4557235421166307\n",
    "    # f1:  0.5222772277227723"
   ]
  },
  {
   "cell_type": "code",
   "execution_count": 237,
   "id": "48be3bae",
   "metadata": {},
   "outputs": [],
   "source": [
    "# Oversampling:\n",
    "    # precision:  0.4790764790764791\n",
    "    # recall:  0.7170626349892009\n",
    "    # f1:  0.57439446366782"
   ]
  },
  {
   "cell_type": "code",
   "execution_count": 238,
   "id": "c66f5057",
   "metadata": {},
   "outputs": [],
   "source": [
    "# Undersampling:\n",
    "    # precision:  0.47701149425287354\n",
    "    # recall:  0.7170626349892009\n",
    "    # f1:  0.5729076790336497"
   ]
  },
  {
   "cell_type": "code",
   "execution_count": 239,
   "id": "216f31c8",
   "metadata": {},
   "outputs": [],
   "source": [
    "# # SMOTE for neighbors = 5:\n",
    "    # precision:  0.4776978417266187\n",
    "    # recall:  0.7170626349892009\n",
    "    # f1:  0.5734024179620035"
   ]
  },
  {
   "cell_type": "code",
   "execution_count": 240,
   "id": "66b06246",
   "metadata": {},
   "outputs": [],
   "source": [
    "# If we relate the f1 (which is an inbetween value of precision and recall and therefore, in our case helpful(?)), \n",
    "# the Oversampling did the best job in order to deal with the imbalance."
   ]
  }
 ],
 "metadata": {
  "kernelspec": {
   "display_name": "Python 3 (ipykernel)",
   "language": "python",
   "name": "python3"
  },
  "language_info": {
   "codemirror_mode": {
    "name": "ipython",
    "version": 3
   },
   "file_extension": ".py",
   "mimetype": "text/x-python",
   "name": "python",
   "nbconvert_exporter": "python",
   "pygments_lexer": "ipython3",
   "version": "3.9.12"
  }
 },
 "nbformat": 4,
 "nbformat_minor": 5
}
